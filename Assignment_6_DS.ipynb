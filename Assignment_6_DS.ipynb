{
 "cells": [
  {
   "cell_type": "markdown",
   "id": "d18c5007",
   "metadata": {},
   "source": [
    "# Assignment 6 solution"
   ]
  },
  {
   "cell_type": "raw",
   "id": "e1932f9d",
   "metadata": {},
   "source": [
    "Q.1. What are escape characters, and how do you use them?\n",
    "\n",
    "Ans: Escape characters are characters that are used to represent certain elements that cannot be      input into a string or program directly. They are usually preceded by a backslash () and are      used to represent things like newlines, tabs, and quotation marks. For example, the escape        character for a newline is '\\n', and the escape character for a tab is '\\t'. To use an            escape character in a string, you simply need to include the backslash followed by the            appropriate character in the string.\n"
   ]
  },
  {
   "cell_type": "code",
   "execution_count": 1,
   "id": "05219b90",
   "metadata": {},
   "outputs": [],
   "source": [
    "#for example, the following code would create a string with a newline character in it:\n",
    "string = \"This is the first line\\nThis is the second line\"\n"
   ]
  },
  {
   "cell_type": "raw",
   "id": "56eeb8ec",
   "metadata": {},
   "source": [
    "Q.2. What do the escape characters n and t stand for?\n",
    "\n",
    "Ans: The escape characters '\\n' and '\\t' are used in strings to represent newlines and tabs            respectively.\n",
    "\n",
    "     '\\n' is the escape character for a newline, which is a special character used to indicate        the end of a line of text and the beginning of a new one. When a string containing the '\\n'      escape character is printed, the output will appear on multiple lines, with a line break          occurring where the '\\n' character is located.\n",
    "\n",
    "     '\\t' is the escape character for a tab, which is used to create a horizontal space between        text. When a string containing the '\\t' escape character is printed, the output will appear      with a tab space between the text, where the '\\t' character is located."
   ]
  },
  {
   "cell_type": "code",
   "execution_count": 3,
   "id": "da2ab326",
   "metadata": {},
   "outputs": [
    {
     "name": "stdout",
     "output_type": "stream",
     "text": [
      "This is the first line\n",
      "\tThis is the second line\n"
     ]
    }
   ],
   "source": [
    "string = \"This is the first line\\n\\tThis is the second line\"\n",
    "print(string)\n",
    "#Here ''\\n' is used for newline and ''\\t' is used for tab space.\n"
   ]
  },
  {
   "cell_type": "raw",
   "id": "408a409b",
   "metadata": {},
   "source": [
    "Q.3. What is the way to include backslash characters in a string?\n",
    "\n",
    "Ans: we can include a backslash character in a string by using a special notation called an \"escape sequence.\" An escape sequence begins with a backslash, followed by a letter or symbol."
   ]
  },
  {
   "cell_type": "code",
   "execution_count": 6,
   "id": "f6dbb48a",
   "metadata": {},
   "outputs": [],
   "source": [
    "#for example\n",
    "string = \"This string contains a backslash: \\\\\"\n"
   ]
  },
  {
   "cell_type": "raw",
   "id": "82aa5f28",
   "metadata": {},
   "source": [
    "Q.4. The string \"Howl's Moving Castle\" is a correct value. Why isn't the single quote character        in the word Howl's not escaped a problem?\n",
    "\n",
    "Ans: The string \"Howl's Moving Castle\" escaped the problem because it is wrapped inside double        quotes. if its wrapped inside single quotes then we have to use escape character \\' to show      single quote in the final output.\n",
    "\n",
    "                'Howl\\'s Moving Castle' -> 'Howl's Moving Castle'"
   ]
  },
  {
   "cell_type": "raw",
   "id": "6f80cec0",
   "metadata": {},
   "source": [
    "Q.5. How do you write a string of newlines if you don't want to use the n character?\n",
    "\n",
    "Ans: Multiline string allow to use newlines in string without the '\\n' escape character"
   ]
  },
  {
   "cell_type": "code",
   "execution_count": 11,
   "id": "46456b63",
   "metadata": {},
   "outputs": [
    {
     "name": "stdout",
     "output_type": "stream",
     "text": [
      "This is the first line\n",
      "This is the second line\n"
     ]
    }
   ],
   "source": [
    "#for example\n",
    "print(\"This is the first line\\nThis is the second line\")\n"
   ]
  },
  {
   "cell_type": "code",
   "execution_count": 12,
   "id": "900607f6",
   "metadata": {},
   "outputs": [
    {
     "name": "stdout",
     "output_type": "stream",
     "text": [
      "iNeuron full stack\n",
      "Data Science Course\n"
     ]
    }
   ],
   "source": [
    "a = '''iNeuron full stack\n",
    "Data Science Course'''\n",
    "print(a)"
   ]
  },
  {
   "cell_type": "raw",
   "id": "0276e4dc",
   "metadata": {},
   "source": [
    "Q.6. What are the values of the given expressions?\n",
    "        'Hello, world!'[1]\n",
    "        'Hello, world!'[0:5]\n",
    "        'Hello, world!'[:5]\n",
    "        'Hello, world!'[3:]\n",
    "    \n",
    "Ans: The values for the given expressions are:\n",
    "    'Hello, world!'[1] -> 'e'\n",
    "    'Hello, world!'[0:5] -> 'Hello'\n",
    "    'Hello, world!'[:5] -> 'Hello'\n",
    "    'Hello, world!'[3:] -> 'lo, world!'\n",
    "\n",
    "Note:String slicing is done with the help of square brackets [] and colons :. The first number        inside the square bracket is the starting index and the second number is the ending index,        and it returns the substring between those indexes."
   ]
  },
  {
   "cell_type": "raw",
   "id": "1964f554",
   "metadata": {},
   "source": [
    "Q.7. What are the values of the following expressions?\n",
    "        'Hello'.upper()\n",
    "        'Hello'.upper().isupper()\n",
    "        'Hello'.upper().lower()\n",
    "        \n",
    "Ans: The values for the given expressions are:\n",
    "        'Hello'.upper() -> 'HELLO'\n",
    "        'Hello'.upper().isupper() -> True\n",
    "        'Hello'.upper().lower() -> 'hello'"
   ]
  },
  {
   "cell_type": "raw",
   "id": "06529754",
   "metadata": {},
   "source": [
    "Q.8. What are the values of the following expressions?\n",
    "    'Remember, remember, the fifth of July.'.split()\n",
    "    '-'.join('There can only one.'.split())\n",
    "    \n",
    "Ans: 'Remember, remember, the fifth of July.'.split() will return a list of substrings that are        separated by whitespace in the original string, like this:\n",
    "           \n",
    "           ['Remember,', 'remember,', 'the', 'fifth', 'of', 'July.']\n",
    "\n",
    "     '-'.join('There can only one.'.split()) will join the words in the list obtained from the        'split(); method using the '-' separator, it will return a single string like this:\n",
    "            \n",
    "            'There-can-only-one.'\n",
    "\n",
    "     The split'()' method is used to split a given string into a list of substrings at every          instance of a given separator (default is whitespace).\n",
    "     The 'join()' method is used to join a list of strings with a specified separator. In this        case, it will join the elements of the list obtained from the 'split()' method with '-'          separator."
   ]
  },
  {
   "cell_type": "raw",
   "id": "f32130d7",
   "metadata": {},
   "source": [
    "Q.9. What are the methods for right-justifying, left-justifying, and centering a string?\n",
    "\n",
    "Ans: We can use the 'ljust()', 'rjust()', and 'center()' methods to left-justify, right-justify,      and center a string respectively. These methods take two arguments: the width of the              resulting string, and the character to fill any unused space (default is a space character)."
   ]
  },
  {
   "cell_type": "code",
   "execution_count": 14,
   "id": "5f16843d",
   "metadata": {},
   "outputs": [
    {
     "name": "stdout",
     "output_type": "stream",
     "text": [
      "Hello     \n",
      "     Hello\n",
      "  Hello   \n"
     ]
    }
   ],
   "source": [
    "#for example\n",
    "#Left-justifying\n",
    "string = \"Hello\"\n",
    "print(string.ljust(10))\n",
    "#Right-justifying\n",
    "string = \"Hello\"\n",
    "print(string.rjust(10))\n",
    "#Centering\n",
    "string = \"Hello\"\n",
    "print(string.center(10))\n"
   ]
  },
  {
   "cell_type": "raw",
   "id": "eaadd712",
   "metadata": {},
   "source": [
    "Q.10. What is the best way to remove whitespace characters from the start or end?\n",
    "\n",
    "Ans:  The best way to remove whitespace characters from the start or end of a string  we can use       the 'strip()' method to remove whitespace characters from the start and end of a string.         This method removes any leading or trailing whitespace characters (spaces, tabs, or               newlines) from the string."
   ]
  },
  {
   "cell_type": "code",
   "execution_count": 16,
   "id": "adbab3b0",
   "metadata": {},
   "outputs": [
    {
     "name": "stdout",
     "output_type": "stream",
     "text": [
      "Hello\n"
     ]
    }
   ],
   "source": [
    "#for example\n",
    "string = \"    Hello    \"\n",
    "print(string.strip()) \n"
   ]
  },
  {
   "cell_type": "code",
   "execution_count": null,
   "id": "d742bbac",
   "metadata": {},
   "outputs": [],
   "source": []
  }
 ],
 "metadata": {
  "kernelspec": {
   "display_name": "Python 3 (ipykernel)",
   "language": "python",
   "name": "python3"
  },
  "language_info": {
   "codemirror_mode": {
    "name": "ipython",
    "version": 3
   },
   "file_extension": ".py",
   "mimetype": "text/x-python",
   "name": "python",
   "nbconvert_exporter": "python",
   "pygments_lexer": "ipython3",
   "version": "3.9.12"
  }
 },
 "nbformat": 4,
 "nbformat_minor": 5
}
